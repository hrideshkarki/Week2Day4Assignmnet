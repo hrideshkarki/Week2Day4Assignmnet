{
 "cells": [
  {
   "cell_type": "markdown",
   "metadata": {},
   "source": [
    "# Object-Oriented-Programming (OOP)"
   ]
  },
  {
   "cell_type": "markdown",
   "metadata": {},
   "source": [
    "## Tasks Today:\n",
    "\n",
    "   \n",
    "\n",
    "1) <b>Creating a Class (Initializing/Declaring)</b> <br>\n",
    "2) <b>Using a Class (Instantiating)</b> <br>\n",
    " &nbsp;&nbsp;&nbsp;&nbsp; a) Creating One Instance <br>\n",
    " &nbsp;&nbsp;&nbsp;&nbsp; b) Creating Multiple Instances <br>\n",
    " &nbsp;&nbsp;&nbsp;&nbsp; c) In-Class Exercise #1 - Create a Class 'Car' and instantiate three different makes of cars <br>\n",
    "3) <b>The \\__init\\__() Method</b> <br>\n",
    " &nbsp;&nbsp;&nbsp;&nbsp; a) The 'self' Attribute <br>\n",
    "4) <b>Class Attributes</b> <br>\n",
    " &nbsp;&nbsp;&nbsp;&nbsp; a) Initializing Attributes <br>\n",
    " &nbsp;&nbsp;&nbsp;&nbsp; b) Setting an Attribute Outside of the \\__init\\__() Method <br>\n",
    " &nbsp;&nbsp;&nbsp;&nbsp; c) Setting Defaults for Attributes <br>\n",
    " &nbsp;&nbsp;&nbsp;&nbsp; d) Accessing Class Attributes <br>\n",
    " &nbsp;&nbsp;&nbsp;&nbsp; e) Changing Class Attributes <br>\n",
    " &nbsp;&nbsp;&nbsp;&nbsp; f) In-Class Exercise #2 - Add a color and wheels attribute to your 'Car' class <br>\n",
    "5) <b>Class Methods</b> <br>\n",
    " &nbsp;&nbsp;&nbsp;&nbsp; a) Creating <br>\n",
    " &nbsp;&nbsp;&nbsp;&nbsp; b) Calling <br>\n",
    " &nbsp;&nbsp;&nbsp;&nbsp; c) Modifying an Attribute's Value Through a Method <br>\n",
    " &nbsp;&nbsp;&nbsp;&nbsp; d) Incrementing an Attribute's Value Through a Method <br>\n",
    " &nbsp;&nbsp;&nbsp;&nbsp; e) In-Class Exercise #3 - Add a method that prints the cars color and wheel number, then call them <br>\n",
    "6) <b>Inheritance</b> <br>\n",
    " &nbsp;&nbsp;&nbsp;&nbsp; a) Syntax for Inheriting from a Parent Class <br>\n",
    " &nbsp;&nbsp;&nbsp;&nbsp; b) The \\__init\\__() Method for a Child Class (super()) <br>\n",
    " &nbsp;&nbsp;&nbsp;&nbsp; c) Defining Attributes and Methods for the Child Class <br>\n",
    " &nbsp;&nbsp;&nbsp;&nbsp; d) Method Overriding <br>\n",
    " &nbsp;&nbsp;&nbsp;&nbsp; e) In-Class Exercise #4 - Create a class 'Ford' that inherits from 'Car' class and initialize it as a Blue Ford Explorer with 4 wheels using the super() method <br>\n",
    "7) <b>Classes as Attributes</b> <br>\n",
    "8) <b>Exercises</b> <br>\n",
    " &nbsp;&nbsp;&nbsp;&nbsp; a) Exercise #1 - Turn the shopping cart program from yesterday into an object-oriented program <br>"
   ]
  },
  {
   "cell_type": "markdown",
   "metadata": {},
   "source": [
    "## Creating a Class (Initializing/Declaring)\n",
    "<p>When creating a class, function, or even a variable you are initializing that object. Initializing and Declaring occur at the same time in Python, whereas in lower level languages you have to declare an object before initializing it. This is the first step in the process of using a class.</p>"
   ]
  },
  {
   "cell_type": "code",
   "execution_count": 111,
   "metadata": {},
   "outputs": [
    {
     "name": "stdout",
     "output_type": "stream",
     "text": [
      "assignmnet\n",
      "understanding\n",
      "you got a parking spot\n",
      "<__main__.Practice object at 0x7fce28024a60>\n"
     ]
    }
   ],
   "source": [
    "class Car():\n",
    "    wheels = 4\n",
    "    color = 'blue'\n",
    "\n",
    "class Python():\n",
    "    size = 11\n",
    "    goal = \"learn\"\n",
    "    \n",
    "class Practice():\n",
    "    goal = \"assignmnet\"\n",
    "\n",
    "practice1 = Practice()\n",
    "print(practice1.goal)\n",
    "\n",
    "practice1.jupyter=\"understanding\"\n",
    "print(practice1.jupyter)\n",
    "\n",
    "practice2= Practice()\n",
    "\n",
    "practice2.ticket = \"you got a parking spot\"\n",
    "print(practice2.ticket)\n",
    "\n",
    "print(practice1)\n",
    "\n",
    "\n",
    "class Practice():\n",
    "    def __init__(self, goal):\n",
    "        self.goal = goal\n",
    "        self.tickets = \"You've got a ticket\"\n",
    "        self.payment = \"$50\"\n"
   ]
  },
  {
   "cell_type": "markdown",
   "metadata": {},
   "source": [
    "## Using a Class (Instantiating)\n",
    "<p>The process of creating a class is called <i>Instantiating</i>. Each time you create a variable of that type of class, it is referred to as an <i>Instance</i> of that class. This is the second step in the process of using a class.</p>"
   ]
  },
  {
   "cell_type": "markdown",
   "metadata": {},
   "source": [
    "##### Creating One Instance"
   ]
  },
  {
   "cell_type": "code",
   "execution_count": 11,
   "metadata": {},
   "outputs": [
    {
     "name": "stdout",
     "output_type": "stream",
     "text": [
      "<__main__.Car object at 0x7fce41824df0>\n",
      "<class '__main__.Car'>\n",
      "<__main__.Python object at 0x7fce41824970>\n",
      "blue\n",
      "\n",
      "11\n",
      "learn\n"
     ]
    }
   ],
   "source": [
    "car1=Car()\n",
    "print(car1)\n",
    "print(type(car1))\n",
    "\n",
    "python1= Python()\n",
    "print(python1)\n",
    "\n",
    "print(car1.color)\n",
    "print()\n",
    "\n",
    "print(python1.size)\n",
    "print(python1.goal)"
   ]
  },
  {
   "cell_type": "markdown",
   "metadata": {},
   "source": [
    "##### Creating Multiple Instances"
   ]
  },
  {
   "cell_type": "code",
   "execution_count": 19,
   "metadata": {},
   "outputs": [
    {
     "name": "stdout",
     "output_type": "stream",
     "text": [
      "<__main__.Python object at 0x7fce487922b0>\n",
      "<__main__.Python object at 0x7fce60495d60>\n",
      "codewar\n"
     ]
    }
   ],
   "source": [
    "python2 = Python()\n",
    "python3 = Python()\n",
    "\n",
    "python2 is python3 #since address is different they are different even though they are inhearieted from same class\n",
    "print(python2)\n",
    "print(python3)\n",
    " #see how to add to class python2.learn=\"codewar\"??\n",
    "    \n",
    "    \n",
    "python2.learn=\"codewar\"\n",
    "print(python2.learn)\n",
    "    "
   ]
  },
  {
   "cell_type": "markdown",
   "metadata": {},
   "source": [
    "##### In-Class Exercise #1 - Create a Class 'Car' and Instantiate three different makes of cars"
   ]
  },
  {
   "cell_type": "code",
   "execution_count": null,
   "metadata": {},
   "outputs": [
    {
     "ename": "",
     "evalue": "",
     "output_type": "error",
     "traceback": [
      "\u001b[1;31mFailed to start the Kernel. \n",
      "\u001b[1;31mJupyter server crashed. Unable to connect. \n",
      "\u001b[1;31mError code from Jupyter: 1\n",
      "\u001b[1;31musage: jupyter.py [-h] [--version] [--config-dir] [--data-dir] [--runtime-dir]\n",
      "\u001b[1;31m                  [--paths] [--json] [--debug]\n",
      "\u001b[1;31m                  [subcommand]\n",
      "\u001b[1;31m\n",
      "\u001b[1;31mJupyter: Interactive Computing\n",
      "\u001b[1;31m\n",
      "\u001b[1;31mpositional arguments:\n",
      "\u001b[1;31m  subcommand     the subcommand to launch\n",
      "\u001b[1;31m\n",
      "\u001b[1;31moptions:\n",
      "\u001b[1;31m  -h, --help     show this help message and exit\n",
      "\u001b[1;31m  --version      show the versions of core jupyter packages and exit\n",
      "\u001b[1;31m  --config-dir   show Jupyter config dir\n",
      "\u001b[1;31m  --data-dir     show Jupyter data dir\n",
      "\u001b[1;31m  --runtime-dir  show Jupyter runtime dir\n",
      "\u001b[1;31m  --paths        show all Jupyter paths. Add --json for machine-readable\n",
      "\u001b[1;31m                 format.\n",
      "\u001b[1;31m  --json         output paths as machine-readable json\n",
      "\u001b[1;31m  --debug        output debug information about paths\n",
      "\u001b[1;31m\n",
      "\u001b[1;31mAvailable subcommands:\n",
      "\u001b[1;31m\n",
      "\u001b[1;31mJupyter command `jupyter-notebook` not found. \n",
      "\u001b[1;31mView Jupyter <a href='command:jupyter.viewOutput'>log</a> for further details."
     ]
    }
   ],
   "source": [
    "# class Python():\n",
    "#     def __init__():\n",
    "#         python2.size=20\n",
    "#         python2.goal=master-code\n",
    "    \n",
    "# print(python2.goal)\n",
    "# print(python2.size)\n",
    "\n",
    "\n",
    "class Car():\n",
    "    def __init__(self, color, hp=400):\n",
    "        self.wheels=4\n",
    "        self.color=color\n",
    "        self.horsepower=hp\n",
    "        self.convertible=false\n",
    "        \n",
    "    def zo0m():\n",
    "        print('hi')\n",
    "    \n",
    "\n",
    "car1 = Car('black', 800)\n",
    "print(car1.wheels)\n",
    "print(car1.color)\n",
    "print(car1.horsepower)\n",
    "\n",
    "car2 = Car('vantablack', 300)\n",
    "print(car2.wheels)\n",
    "print(car2.color)\n",
    "print(car2.horsepower)\n",
    "\n",
    "car3 = Car('vantablack', 300)\n",
    "print(car3.wheels)\n",
    "print(car3.color)\n",
    "print(car3.horsepower)\n",
    "\n",
    "car3.__dict__\n",
    "\n",
    "\n",
    "#these 2 lines are same\n",
    "#thats why self is neacessary\n",
    "car3.zoom()\n",
    "car.zoom(car3)\n",
    "\n",
    "\n"
   ]
  },
  {
   "cell_type": "markdown",
   "metadata": {},
   "source": [
    "## The \\__init\\__() Method <br>\n",
    "<p>This method is used in almost every created class, and called only once upon the creation of the class instance. This method will initialize all variables needed for the object.</p>"
   ]
  },
  {
   "cell_type": "code",
   "execution_count": null,
   "metadata": {},
   "outputs": [],
   "source": []
  },
  {
   "cell_type": "markdown",
   "metadata": {},
   "source": [
    "##### The 'self' Attribute <br>\n",
    "<p>This attribute is required to keep track of specific instance's attributes. Without the self attribute, the program would not know how to reference or keep track of an instance's attributes.</p>"
   ]
  },
  {
   "cell_type": "code",
   "execution_count": null,
   "metadata": {},
   "outputs": [],
   "source": [
    "# see above"
   ]
  },
  {
   "cell_type": "markdown",
   "metadata": {},
   "source": [
    "## Class Attributes <br>\n",
    "<p>While variables are inside of a class, they are referred to as attributes and not variables. When someone says 'attribute' you know they're speaking about a class. Attributes can be initialized through the init method, or outside of it.</p>"
   ]
  },
  {
   "cell_type": "markdown",
   "metadata": {},
   "source": [
    "##### Initializing Attributes"
   ]
  },
  {
   "cell_type": "code",
   "execution_count": null,
   "metadata": {},
   "outputs": [],
   "source": [
    "# see above"
   ]
  },
  {
   "cell_type": "markdown",
   "metadata": {},
   "source": [
    "##### Accessing Class Attributes"
   ]
  },
  {
   "cell_type": "code",
   "execution_count": null,
   "metadata": {
    "scrolled": true
   },
   "outputs": [],
   "source": [
    "# See Above"
   ]
  },
  {
   "cell_type": "markdown",
   "metadata": {},
   "source": [
    "##### Setting Defaults for Attributes"
   ]
  },
  {
   "cell_type": "code",
   "execution_count": null,
   "metadata": {},
   "outputs": [],
   "source": []
  },
  {
   "cell_type": "markdown",
   "metadata": {},
   "source": [
    "##### Changing Class Attributes <br>\n",
    "<p>Keep in mind there are global class attributes and then there are attributes only available to each class instance which won't effect other classes.</p>"
   ]
  },
  {
   "cell_type": "code",
   "execution_count": 40,
   "metadata": {},
   "outputs": [
    {
     "name": "stdout",
     "output_type": "stream",
     "text": [
      "800\n",
      "900\n"
     ]
    }
   ],
   "source": [
    "print(car1.horsepower)\n",
    "car1.horsepower = 900\n",
    "print(car1.horsepower)"
   ]
  },
  {
   "cell_type": "code",
   "execution_count": null,
   "metadata": {},
   "outputs": [],
   "source": []
  },
  {
   "cell_type": "markdown",
   "metadata": {},
   "source": [
    "##### In-Class Exercise #2 - Add a doors and seats attribute to your 'Car' class then print out two different instances with different doors and seats"
   ]
  },
  {
   "cell_type": "code",
   "execution_count": 43,
   "metadata": {},
   "outputs": [
    {
     "name": "stdout",
     "output_type": "stream",
     "text": [
      "4\n",
      "2\n",
      "2\n",
      "4\n",
      "6\n"
     ]
    }
   ],
   "source": [
    "class Car():\n",
    "    def __init__(self, door, seat):\n",
    "        self.wheels=4\n",
    "        self.door=door\n",
    "        self.seat=seat\n",
    "    \n",
    "\n",
    "car1 = Car(2, 2)\n",
    "print(car1.wheels)\n",
    "print(car1.door)\n",
    "print(car1.seat)\n",
    "\n",
    "car2 = Car(4, 6)\n",
    "print(car2.door)\n",
    "print(car2.seat)"
   ]
  },
  {
   "cell_type": "markdown",
   "metadata": {},
   "source": [
    "## Class Methods <br>\n",
    "<p>While inside of a class, functions are referred to as 'methods'. If you hear someone mention methods, they're speaking about classes. Methods are essentially functions, but only callable on the instances of a class.</p>"
   ]
  },
  {
   "cell_type": "markdown",
   "metadata": {},
   "source": [
    "##### Creating"
   ]
  },
  {
   "cell_type": "code",
   "execution_count": 49,
   "metadata": {},
   "outputs": [
    {
     "name": "stdout",
     "output_type": "stream",
     "text": [
      "{'wheels': 4, 'color': 'crimson', 'horsepower': 999, 'milage': 0}\n",
      "crimson\n",
      "hi\n",
      "20\n",
      "<bound method Car.addInfo of <__main__.Car object at 0x7fce487923a0>>\n",
      "{'wheels': 4, 'color': 'crimson', 'horsepower': 999, 'milage': 30, 'make': 'dr.', 'model': 'backintothefuture', 'year': '2040'}\n"
     ]
    }
   ],
   "source": [
    "class Car():\n",
    "    def __init__(self, color, hp=400):\n",
    "        self.wheels=4\n",
    "        self.color=color\n",
    "        self.horsepower=hp\n",
    "        self.milage=0\n",
    "        \n",
    "    def zoom(self):\n",
    "        print('hi')\n",
    "        \n",
    "    def drive(self, milesDriven = 10):\n",
    "        self.milage += milesDriven\n",
    "        \n",
    "    def addInfo(self, make, model, year):\n",
    "        self.make=make\n",
    "        self.model=model\n",
    "        self.year= year\n",
    "        \n",
    "    \n",
    "\n",
    "car1 = Car('crimson', 999)\n",
    "print(car1.__dict__)\n",
    "print(car1.color)\n",
    "car1.zoom()\n",
    "car1.drive()\n",
    "car1.drive()\n",
    "print(car1.milage)\n",
    "car1.milage += 10 # updating the attribute on the global scope instead of thoruhj a settr function\n",
    "\n",
    "\n",
    "car1.addInfo('dr.','backintothefuture','2040')\n",
    "print(car1.addInfo)\n",
    "print(car1.__dict__)"
   ]
  },
  {
   "cell_type": "markdown",
   "metadata": {},
   "source": [
    "##### Calling"
   ]
  },
  {
   "cell_type": "code",
   "execution_count": null,
   "metadata": {},
   "outputs": [],
   "source": [
    "# See Above (look at drive method)"
   ]
  },
  {
   "cell_type": "markdown",
   "metadata": {},
   "source": [
    "##### Modifying an Attribute's Value Through a Method"
   ]
  },
  {
   "cell_type": "code",
   "execution_count": 15,
   "metadata": {},
   "outputs": [],
   "source": [
    "class Car():\n",
    "    def __init__(self, year, model):\n",
    "        self.year = year\n",
    "        self.model = model\n",
    "        \n",
    "    def __init__(self, voltge=2.0):\n",
    "        self.cells=4\n",
    "        self.voltage=voltage\n",
    " \n"
   ]
  },
  {
   "cell_type": "markdown",
   "metadata": {},
   "source": [
    "##### Incrementing an Attribute's Value Through a Method"
   ]
  },
  {
   "cell_type": "code",
   "execution_count": null,
   "metadata": {},
   "outputs": [],
   "source": []
  },
  {
   "cell_type": "markdown",
   "metadata": {},
   "source": [
    "##### In-Class Exercise #3 - Add a method that takes in three parameters of year, doors and seats and prints out a formatted print statement with make, model, year, seats, and doors"
   ]
  },
  {
   "cell_type": "code",
   "execution_count": null,
   "metadata": {},
   "outputs": [],
   "source": [
    "# Create class with 2 paramters inside of the __init__ which are make and model\n",
    "\n",
    "# Inside of the Car class create a method that has 4 parameter in total (self,year,door,seats)\n",
    "\n",
    "# Output: This car is from 2019 and is a Ford Expolorer and has 4 doors and 5 seats\n",
    "\n"
   ]
  },
  {
   "cell_type": "markdown",
   "metadata": {},
   "source": [
    "## Inheritance <br>\n",
    "<p>You can create a child-parent relationship between two classes by using inheritance. What this allows you to do is have overriding methods, but also inherit traits from the parent class. Think of it as an actual parent and child, the child will inherit the parent's genes, as will the classes in OOP</p>"
   ]
  },
  {
   "cell_type": "markdown",
   "metadata": {},
   "source": [
    "##### Syntax for Inheriting from a Parent Class"
   ]
  },
  {
   "cell_type": "code",
   "execution_count": 57,
   "metadata": {},
   "outputs": [
    {
     "name": "stdout",
     "output_type": "stream",
     "text": [
      "....\n",
      "{'life': 100, 'legs': 4, 'alive': True, 'name': 'top'}\n",
      "....\n"
     ]
    },
    {
     "data": {
      "text/plain": [
       "{'life': 100, 'legs': 4, 'alive': True, 'name': 'Andrew', 'lovelasagna': True}"
      ]
     },
     "execution_count": 57,
     "metadata": {},
     "output_type": "execute_result"
    }
   ],
   "source": [
    "class Animal:\n",
    "    def __init__(self, name, legs=4):\n",
    "        self.life = 100\n",
    "        self.legs = legs\n",
    "        self.alive = True\n",
    "        self.name = name\n",
    "        \n",
    "        \n",
    "    def talk(self):\n",
    "        print('....')\n",
    "    \n",
    "class Cat(Animal):\n",
    "    def __init__(self, name, legs=4, fleine = True):\n",
    "        super().__init__(name, legs)\n",
    "        self.lovelasagna = True\n",
    "    \n",
    "class Dog(Animal):\n",
    "    def __init__(self):\n",
    "        pass\n",
    "\n",
    "class Husky(Dog):\n",
    "    def __init__(self):\n",
    "        pass\n",
    "    \n",
    "a1 = Animal('top')\n",
    "a1.talk()\n",
    "print(a1.__dict__)\n",
    "\n",
    "c1= Cat('Andrew')\n",
    "c1.talk()\n",
    "c1.__dict__"
   ]
  },
  {
   "cell_type": "markdown",
   "metadata": {},
   "source": [
    "##### The \\__init\\__() Method for a Child Class - super()"
   ]
  },
  {
   "cell_type": "code",
   "execution_count": null,
   "metadata": {
    "scrolled": true
   },
   "outputs": [],
   "source": []
  },
  {
   "cell_type": "markdown",
   "metadata": {},
   "source": [
    "##### Defining Attributes and Methods for the Child Class"
   ]
  },
  {
   "cell_type": "code",
   "execution_count": null,
   "metadata": {},
   "outputs": [],
   "source": [
    "# See Above"
   ]
  },
  {
   "cell_type": "markdown",
   "metadata": {},
   "source": [
    "##### Method Overriding"
   ]
  },
  {
   "cell_type": "code",
   "execution_count": null,
   "metadata": {},
   "outputs": [],
   "source": []
  },
  {
   "cell_type": "markdown",
   "metadata": {},
   "source": [
    "## Classes as Attributes <br>\n",
    "<p>Classes can also be used as attributes within another class. This is useful in situations where you need to keep variables locally stored, instead of globally stored.</p>"
   ]
  },
  {
   "cell_type": "code",
   "execution_count": 100,
   "metadata": {},
   "outputs": [
    {
     "data": {
      "text/plain": [
       "'This batery has 4 cells anf 2.0 voltage'"
      ]
     },
     "execution_count": 100,
     "metadata": {},
     "output_type": "execute_result"
    }
   ],
   "source": [
    "class Car():\n",
    "    def __init__(self, year, make, model, battery):\n",
    "        self.year = year\n",
    "        self.model1 = model\n",
    "        self.make = make\n",
    "        self.battery = battery\n",
    "    \n",
    "class Battery():\n",
    "    def __init__(self, voltage=1.60):\n",
    "        self.cells = 4\n",
    "        self.voltage = voltage\n",
    "    def printInfo(self):\n",
    "        return f'This batery has {self.cells} cells anf {self.voltage} voltage'\n",
    "    \n",
    "b = Battery(2.0)\n",
    "tesla = Car (2023, \"Tesla\", \"Cybertruck\", b)\n",
    "\n",
    "tesla.battery.printInfo()"
   ]
  },
  {
   "cell_type": "markdown",
   "metadata": {},
   "source": [
    "# Exercises"
   ]
  },
  {
   "cell_type": "markdown",
   "metadata": {},
   "source": [
    "### Exercise 1 - Turn the shopping cart program from yesterday into an object-oriented program\n",
    "\n",
    "The comments in the cell below are there as a guide for thinking about the problem. However, if you feel a different way is best for you and your own thought process, please do what feels best for you by all means."
   ]
  },
  {
   "cell_type": "code",
   "execution_count": 51,
   "metadata": {},
   "outputs": [
    {
     "name": "stdout",
     "output_type": "stream",
     "text": [
      "Your cart have:\n",
      "Milk 2\n",
      "Apple 3\n",
      "Yakult 5\n"
     ]
    }
   ],
   "source": [
    "# Create a class called cart that retains items and has methods to add, remove, and show\n",
    "\n",
    "class ShoppingCart():\n",
    "    def __init__(self):\n",
    "        self.cart = {}\n",
    "            \n",
    "    def additem(self, item, quantity):\n",
    "        if item in self.cart:\n",
    "            self.cart[item] += quantity\n",
    "        else:\n",
    "            self.cart[item] = quantity\n",
    "            \n",
    "    def removeitem(self, item, quantity):\n",
    "        for item in self.cart:\n",
    "            if self.cart[item] > quantity:\n",
    "                self.cart[item] -= quantity\n",
    "            else:\n",
    "                del self.cart[item]\n",
    "                return\n",
    "                \n",
    "            # if int(self.cart[item]) < 1:\n",
    "            #     print(f'Please enter a valid amount.')\n",
    "            #     return      \n",
    "              \n",
    "    def show(self):\n",
    "        if not self.cart:\n",
    "            print(\"There are no items in your cart.\")\n",
    "            return\n",
    "        print(f'Your cart have:')\n",
    "        for item in self.cart:\n",
    "            print(item + \" \" +str(self.cart[item]) + \"\")\n",
    "\n",
    "            \n",
    "        \n",
    "#shopping_dict()    \n",
    "my_cart = ShoppingCart()\n",
    "my_cart.additem('Milk',3)\n",
    "my_cart.additem('Apple',4)\n",
    "my_cart.additem('Grape',1)\n",
    "my_cart.additem('Yakult',5)\n",
    "my_cart.removeitem('Milk',1)\n",
    "my_cart.show()"
   ]
  },
  {
   "cell_type": "markdown",
   "metadata": {},
   "source": [
    "### Exercise 2 - Write a Python class which has two methods get_String and print_String. get_String accept a string from the user and print_String print the string in upper case"
   ]
  },
  {
   "cell_type": "code",
   "execution_count": 64,
   "metadata": {},
   "outputs": [
    {
     "name": "stdout",
     "output_type": "stream",
     "text": [
      "Please enter your name: HrideSH\n"
     ]
    },
    {
     "name": "stdout",
     "output_type": "stream",
     "text": [
      "HRIDESH you have sucessfully accepted and printed input in upper case format.\n"
     ]
    }
   ],
   "source": [
    "class Python():\n",
    "    def __init__(self):\n",
    "        self.string = \"\"\n",
    "        \n",
    "    def get_String(self):\n",
    "        self.string = input(\"Please enter your name:\")\n",
    "        \n",
    "    def print_String(self):\n",
    "        print(f'{self.string.upper()} you have sucessfully accepted and printed input in upper case format.')\n",
    "        \n",
    "try1 = Python()\n",
    "try1.get_String()\n",
    "try1.print_String()"
   ]
  },
  {
   "cell_type": "code",
   "execution_count": null,
   "metadata": {},
   "outputs": [],
   "source": []
  }
 ],
 "metadata": {
  "kernelspec": {
   "display_name": "Python 3 (ipykernel)",
   "language": "python",
   "name": "python3"
  },
  "language_info": {
   "codemirror_mode": {
    "name": "ipython",
    "version": 3
   },
   "file_extension": ".py",
   "mimetype": "text/x-python",
   "name": "python",
   "nbconvert_exporter": "python",
   "pygments_lexer": "ipython3",
   "version": "3.11.2"
  },
  "vscode": {
   "interpreter": {
    "hash": "aee8b7b246df8f9039afb4144a1f6fd8d2ca17a180786b69acc140d282b71a49"
   }
  }
 },
 "nbformat": 4,
 "nbformat_minor": 4
}
